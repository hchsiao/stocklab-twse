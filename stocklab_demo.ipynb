{
  "nbformat": 4,
  "nbformat_minor": 0,
  "metadata": {
    "colab": {
      "name": "stocklab-demo.ipynb",
      "provenance": [],
      "collapsed_sections": []
    },
    "kernelspec": {
      "name": "python3",
      "display_name": "Python 3"
    }
  },
  "cells": [
    {
      "cell_type": "code",
      "metadata": {
        "id": "JobG1PNtay55",
        "colab_type": "code",
        "colab": {}
      },
      "source": [
        "# Setup stocklab\n",
        "!git clone https://github.com/hchsiao/stocklab.git\n",
        "!cd stocklab; pip install -e .\n",
        "!git clone https://github.com/hchsiao/stocklab-twse.git\n",
        "!cd stocklab-twse; pip install -e .\n",
        "\n",
        "import sys\n",
        "import os\n",
        "sys.path.append(f'{os.getcwd()}/stocklab') # so that we don't have to restart kernel"
      ],
      "execution_count": 0,
      "outputs": []
    },
    {
      "cell_type": "code",
      "metadata": {
        "id": "HIZso7SqDIfV",
        "colab_type": "code",
        "colab": {}
      },
      "source": [
        "# Configurate stocklab\n",
        "cfg = \"\"\"---\n",
        "config_name: stocklab-twse\n",
        "force_offline: false\n",
        "timezone_offset: 8\n",
        "root_dir: ./stocklab-twse/\n",
        "#today_is: 2020-04-30\n",
        "stocks_of_interest: active_stock_list\n",
        "database:\n",
        "  type: sqlite\n",
        "  filename: db.sqlite\n",
        "  rebuild-metadata: false\n",
        "cache:\n",
        "  type: sqlite\n",
        "  filename: cache.sqlite\n",
        "  rebuild-metadata: false\n",
        "\"\"\"\n",
        "assert len(cfg) == open('config.yaml', 'w').write(cfg)"
      ],
      "execution_count": 0,
      "outputs": []
    },
    {
      "cell_type": "code",
      "metadata": {
        "id": "6wSNVAV8-CdD",
        "colab_type": "code",
        "colab": {
          "base_uri": "https://localhost:8080/",
          "height": 367
        },
        "outputId": "e658f37b-1242-429c-c375-edb224db1b85"
      },
      "source": [
        "import logging\n",
        "import stocklab\n",
        "from stocklab.lang import expr as e\n",
        "from stocklab.lang import meta as m\n",
        "stocklab.change_log_level(logging.INFO)"
      ],
      "execution_count": 3,
      "outputs": [
        {
          "output_type": "stream",
          "text": [
            "/usr/local/lib/python3.6/dist-packages/psycopg2/__init__.py:144: UserWarning: The psycopg2 wheel package will be renamed from release 2.8; in order to keep installing from binary please use \"pip install psycopg2-binary\" instead. For details see: <http://initd.org/psycopg/docs/install.html#binary-install-from-pypi>.\n",
            "  \"\"\")\n",
            "[INFO] stock_list: Start default meta-module refresh routine\n",
            "[INFO] stock_list: Refresh required, preparing...\n",
            "[INFO] stock_list: Refresh ends\n",
            "[INFO] trade_dates: Refresh required, preparing...\n",
            "[INFO] last_trade_date: Start default meta-module refresh routine\n",
            "[INFO] last_trade_date: Refresh required, preparing...\n",
            "[INFO] last_trade_date: Refresh ends\n",
            "[INFO] trade_dates: Update complete\n",
            "[INFO] suspended_stock_list: Start default meta-module refresh routine\n",
            "[INFO] suspended_stock_list: Refresh required, preparing...\n",
            "[INFO] suspended_stock_list: Refresh ends\n",
            "[INFO] etf_stock_list: Start default meta-module refresh routine\n",
            "[INFO] etf_stock_list: Refresh required, preparing...\n",
            "[INFO] etf_stock_list: Refresh ends\n",
            "[INFO] stock_types: Start default meta-module refresh routine\n",
            "[INFO] stock_types: Refresh required, preparing...\n",
            "[INFO] stock_types: Refresh ends\n"
          ],
          "name": "stderr"
        }
      ]
    },
    {
      "cell_type": "markdown",
      "metadata": {
        "id": "vy-h5sShamEs",
        "colab_type": "text"
      },
      "source": [
        "## Data access interface\n",
        "- ```stocklab.evaluate()```: for modules with data passively crawled (will not be loaded until they are required)\n",
        "- ```stocklab.metaevaluate()```: for modules with data actively crawled (stocklab will update its database before any evaluation)\n"
      ]
    },
    {
      "cell_type": "code",
      "metadata": {
        "id": "aWz6iHMyMhE6",
        "colab_type": "code",
        "outputId": "fff54dc8-8ae8-48d9-d70e-61285379f80e",
        "colab": {
          "base_uri": "https://localhost:8080/",
          "height": 124
        }
      },
      "source": [
        "# stocklab.evaluate: a mapping from string (expression) to data\n",
        "expression = 'ohlc.2330.20200430'\n",
        "o, h, l, c = stocklab.evaluate(expression)\n",
        "print(f'Quote of TSMC(2330) @ 2020-04-30: open={o}, high={h}, low={l}, close={c}')\n",
        "\n",
        "# alternatively, stocklab.lang can also be used to build and evaluate an expression\n",
        "assert e.ohlc._2330._20200430 == (o, h, l, c)\n",
        "\n",
        "# expressions 'trade_dates.*' evaluates to a series of trade dates (w/o weekend & holidays)\n",
        "print('7 trade days BEFORE 2020-03-30:',\n",
        "      stocklab.metaevaluate('trade_dates.20200330.7.lag'))\n",
        "print('7 trade days AFTER 2020-03-30:',\n",
        "      stocklab.metaevaluate('trade_dates.20200330.7.lead'))\n",
        "\n",
        "# list args expension\n",
        "print('Quotes of TSMC for 3 consecutive trade days until 2020-04-30:',\n",
        "      stocklab.evaluate('ohlc.2330.($trade_dates.20200430.3.lag)'))"
      ],
      "execution_count": 4,
      "outputs": [
        {
          "output_type": "stream",
          "text": [
            "[INFO] twse: Data(2330.2020-04-30) does not exist in DB, crawling...\n"
          ],
          "name": "stderr"
        },
        {
          "output_type": "stream",
          "text": [
            "Quote of TSMC(2330) @ 2020-04-30: open=302.0, high=305.0, low=301.5, close=304.5\n",
            "7 trade days BEFORE 2020-03-30: [2020-03-20, 2020-03-23, 2020-03-24, 2020-03-25, 2020-03-26, 2020-03-27, 2020-03-30]\n",
            "7 trade days AFTER 2020-03-30: [2020-03-30, 2020-03-31, 2020-04-01, 2020-04-06, 2020-04-07, 2020-04-08, 2020-04-09]\n",
            "Quotes of TSMC for 3 consecutive trade days until 2020-04-30: [(298.5, 298.5, 294.5, 296.5), (299.0, 301.5, 298.0, 299.0), (302.0, 305.0, 301.5, 304.5)]\n"
          ],
          "name": "stdout"
        }
      ]
    },
    {
      "cell_type": "code",
      "metadata": {
        "id": "hX7BY8kTYx5K",
        "colab_type": "code",
        "outputId": "09b10bb1-e6c1-4802-e59c-2e322a38318e",
        "colab": {
          "base_uri": "https://localhost:8080/",
          "height": 366
        }
      },
      "source": [
        "# plots are, of course, indespensable\n",
        "import numpy as np\n",
        "from stocklab.utils import plot\n",
        "\n",
        "date = 20200430\n",
        "days = 60\n",
        "stock_id = 2330\n",
        "\n",
        "dates_expr = f'trade_dates.{date}.{days}.lag'\n",
        "dates = stocklab.metaevaluate(dates_expr)\n",
        "ohlcs = np.asarray(stocklab.evaluate(f'ohlc.{stock_id}.(${dates_expr})'))\n",
        "\n",
        "ma_l = np.asarray(stocklab.evaluate(f'moving_average.{stock_id}.(${dates_expr}).8'))\n",
        "ma_s = np.asarray(stocklab.evaluate(f'moving_average.{stock_id}.(${dates_expr}).3'))\n",
        "\n",
        "plot(dates, ohlcs,\n",
        "    aux={\n",
        "      'ma_l': ma_l,\n",
        "      'ma_s': ma_s\n",
        "      },\n",
        "    top_aux={\n",
        "      'volumn': stocklab.evaluate(f'volumn.{stock_id}.(${dates_expr})')\n",
        "      }\n",
        "    )"
      ],
      "execution_count": 5,
      "outputs": [
        {
          "output_type": "stream",
          "text": [
            "[INFO] twse: Data(2330.2020-02-04) does not exist in DB, crawling...\n",
            "[INFO] twse: Data(2330.2020-03-02) does not exist in DB, crawling...\n",
            "[INFO] twse: Data(2330.2020-01-15) does not exist in DB, crawling...\n"
          ],
          "name": "stderr"
        },
        {
          "output_type": "display_data",
          "data": {
            "image/png": "[encoded data removed]",
            "text/plain": [
              "<Figure size 432x288 with 2 Axes>"
            ]
          },
          "metadata": {
            "tags": []
          }
        }
      ]
    },
    {
      "cell_type": "markdown",
      "metadata": {
        "id": "-7vu8WyIqr22",
        "colab_type": "text"
      },
      "source": [
        "Here we implement a module 'my_sign' to represent the buy-sell signal.\n",
        "\n",
        "---\n",
        "\n",
        "Modules can be found by stocklab if it is\n",
        "1. written in *.py placed in 'modules/' directory, or\n",
        "2. following ```@stocklab.declare``` directive\n",
        "\n"
      ]
    },
    {
      "cell_type": "code",
      "metadata": {
        "id": "bJZqpNjqiJ3V",
        "colab_type": "code",
        "colab": {
          "base_uri": "https://localhost:8080/",
          "height": 34
        },
        "outputId": "76709ef9-b8f3-4f9f-96f2-26fa46b62532"
      },
      "source": [
        "import numpy as np\n",
        "from stocklab.datetime import Date\n",
        "from stocklab.utils import simulate, plot, random_simulate\n",
        "\n",
        "@stocklab.declare\n",
        "class my_sign(stocklab.Module):\n",
        "  spec = {\n",
        "      'args': [\n",
        "        'stock_id', # field name: 'stock_id' with type: str\n",
        "        ('date', Date), # field name: 'date' with type: stocklab.datetime.Date\n",
        "        ]\n",
        "      }\n",
        "  def evaluate(self, db, args):\n",
        "    dates_expr = f'trade_dates.{args.date}.2.lag'\n",
        "    ma_l = stocklab.evaluate(f'moving_average.{args.stock_id}.(${dates_expr}).8')\n",
        "    ma_s = stocklab.evaluate(f'moving_average.{args.stock_id}.(${dates_expr}).3')\n",
        "    ml = ma_l[1] - ma_l[0]\n",
        "    ms = ma_s[1] - ma_s[0]\n",
        "    cross = (ma_l[1] - ma_s[1]) * (ma_l[0] - ma_s[0]) <= 0\n",
        "    bear = ml > ms # sell when slow MA exceed fast MA\n",
        "    bull = ml < ms # buy when fast MA exceed slow MA\n",
        "    return (0 if not cross else 1 if bull else -1 if bear else 0)\n",
        "\n",
        "# Example evaluation (1 means BUY, -1 means SELL)\n",
        "expr = 'my_sign.2330.($trade_dates.20200430.10.lag)'\n",
        "print(f'{expr} evaluates to :', stocklab.evaluate(expr))"
      ],
      "execution_count": 6,
      "outputs": [
        {
          "output_type": "stream",
          "text": [
            "my_sign.2330.($trade_dates.20200430.10.lag) evaluates to : [0, 0, 0, 0, 0, -1, 0, 0, 1, 0]\n"
          ],
          "name": "stdout"
        }
      ]
    },
    {
      "cell_type": "code",
      "metadata": {
        "id": "pfBq1nSJk9Rb",
        "colab_type": "code",
        "colab": {
          "base_uri": "https://localhost:8080/",
          "height": 191
        },
        "outputId": "1a719678-8a11-442a-8d68-a1ef69c4426d"
      },
      "source": [
        "# With a strategy 'my_sign' at hand, one may evaluate its performance\n",
        "date = 20200424\n",
        "days = 50\n",
        "\n",
        "# pick a stock randomly and simulate\n",
        "print(f'Start backtesting for {days} days (end in {date})')\n",
        "rand_sim = random_simulate(date, days, verbose=True,\n",
        "    dates_expr=lambda d, n: f'trade_dates.{d}.{n}.lag',\n",
        "    ohlc_expr=lambda s, d: f'ohlc.{s}.{d}',\n",
        "    sign_expr=lambda s, d: f'my_sign.{s}.{d}'\n",
        "    )\n",
        "stock_id, gain = next(rand_sim)\n",
        "print(f'stock_id: {stock_id}, capital gain: {gain:.3}')"
      ],
      "execution_count": 7,
      "outputs": [
        {
          "output_type": "stream",
          "text": [
            "[INFO] twse: Data(2337.2020-02-12) does not exist in DB, crawling...\n"
          ],
          "name": "stderr"
        },
        {
          "output_type": "stream",
          "text": [
            "Start backtesting for 50 days (end in 20200424)\n"
          ],
          "name": "stdout"
        },
        {
          "output_type": "stream",
          "text": [
            "[INFO] twse: Data(2337.2020-03-02) does not exist in DB, crawling...\n",
            "[INFO] twse: Data(2337.2020-04-01) does not exist in DB, crawling...\n",
            "[INFO] twse: Data(2337.2020-01-31) does not exist in DB, crawling...\n"
          ],
          "name": "stderr"
        },
        {
          "output_type": "stream",
          "text": [
            "[2020-03-06] buy @ 34.95\n",
            "[2020-03-12] sell @ 30.65 (gain: -4.3)\n",
            "[2020-03-26] buy @ 26.45\n",
            "[2020-04-24] sell (terminate) @ 34.15 (gain: 7.7)\n",
            "stock_id: 2337, capital gain: 3.4\n"
          ],
          "name": "stdout"
        }
      ]
    },
    {
      "cell_type": "code",
      "metadata": {
        "id": "gTDAQqUukCjB",
        "colab_type": "code",
        "colab": {
          "base_uri": "https://localhost:8080/",
          "height": 320
        },
        "outputId": "af40344c-e228-4934-adbf-c61210dfd50a"
      },
      "source": [
        "# One may also visualize the strategy (my_sign in this case)\n",
        "dates_expr = f'trade_dates.{date}.{days}.lag'\n",
        "dates = stocklab.metaevaluate(dates_expr)\n",
        "ohlcs = np.asarray(stocklab.evaluate(f'ohlc.{stock_id}.(${dates_expr})'))\n",
        "prices = ohlcs[:,3]\n",
        "signs = stocklab.evaluate(f'my_sign.{stock_id}.(${dates_expr})')\n",
        "\n",
        "ma_l = np.asarray(stocklab.evaluate(f'moving_average.{stock_id}.(${dates_expr}).8'))\n",
        "ma_s = np.asarray(stocklab.evaluate(f'moving_average.{stock_id}.(${dates_expr}).3'))\n",
        "\n",
        "print('On the candle plot: red bar means sell, green bar means buy')\n",
        "plot(dates, ohlcs, signs,\n",
        "    aux={\n",
        "      'ma_l': ma_l,\n",
        "      'ma_s': ma_s\n",
        "      },\n",
        "    top_aux={\n",
        "      'macd': ma_l - ma_s\n",
        "      }\n",
        "    )"
      ],
      "execution_count": 8,
      "outputs": [
        {
          "output_type": "stream",
          "text": [
            "On the candle plot: red bar means sell, green bar means buy\n"
          ],
          "name": "stdout"
        },
        {
          "output_type": "display_data",
          "data": {
            "image/png": "[encoded data removed]",
            "text/plain": [
              "<Figure size 432x288 with 2 Axes>"
            ]
          },
          "metadata": {
            "tags": []
          }
        }
      ]
    }
  ]
}