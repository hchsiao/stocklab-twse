{
 "cells": [
  {
   "cell_type": "code",
   "execution_count": null,
   "id": "2b5277cf-e17c-46b0-9678-2fcf7431ac90",
   "metadata": {},
   "outputs": [],
   "source": [
    "\"\"\"ML stuff\"\"\"\n",
    "#https://towardsdatascience.com/the-art-of-effective-visualization-of-multi-dimensional-data-6c7202990c57\n",
    "\"\"\"Concept learning tools:\n",
    "CART (scikit-learn)\n",
    "ID3\n",
    "C4.5/C5.0\n",
    "CN2/CN2-SD (orange3)\n",
    "\"\"\"\n",
    "import numpy as np\n",
    "from stocklab import DataIdentifier as DI\n",
    "from stocklab_twse.utils import date_range\n",
    "\n",
    "from sklearn import svm\n",
    "from sklearn import tree\n",
    "from sklearn.preprocessing import normalize\n",
    "clf = svm.SVC()\n",
    "\n",
    "dates = list(date_range(end=20210727, window=240))\n",
    "dates.sort()\n",
    "ohlcs = [DI('DailyData')(stock='2330', date=d) for d in dates]\n",
    "ohlcs = [(inf['open'], inf['max'], inf['min'], inf['close'], inf['delta_price_share']) for inf in ohlcs]\n",
    "ohlcs = np.asarray(ohlcs)\n",
    "\n",
    "split_point = 120\n",
    "X = ohlcs[:-1]\n",
    "X = normalize(X, axis=0)\n",
    "y = ohlcs[1:,3] > ohlcs[:-1,3]\n",
    "clf.fit(X[:split_point], y[:split_point])\n",
    "print('E_out =', (clf.predict(X[split_point:]) != y[split_point:]).sum()/len(y[split_point:]))\n",
    "print('E_in =', (clf.predict(X[:split_point]) != y[:split_point]).sum()/len(y[:split_point]))\n",
    "\n",
    "signs = np.array([getattr(talib, p)(ohlcs[:,0], ohlcs[:,1], ohlcs[:,2], ohlcs[:,3]) for p in patterns])\n",
    "signs = signs.T\n",
    "X = np.hstack((signs > 0, signs < 0))[:-1]\n",
    "clf = tree.DecisionTreeClassifier()\n",
    "clf = clf.fit(X[:split_point], y[:split_point])\n",
    "print('E_out =', (clf.predict(X[split_point:]) != y[split_point:]).sum()/len(y[split_point:]))\n",
    "print('E_in =', (clf.predict(X[:split_point]) != y[:split_point]).sum()/len(y[:split_point]))"
   ]
  }
 ],
 "metadata": {
  "kernelspec": {
   "display_name": "Python 3",
   "language": "python",
   "name": "python3"
  },
  "language_info": {
   "codemirror_mode": {
    "name": "ipython",
    "version": 3
   },
   "file_extension": ".py",
   "mimetype": "text/x-python",
   "name": "python",
   "nbconvert_exporter": "python",
   "pygments_lexer": "ipython3",
   "version": "3.8.8"
  }
 },
 "nbformat": 4,
 "nbformat_minor": 5
}
