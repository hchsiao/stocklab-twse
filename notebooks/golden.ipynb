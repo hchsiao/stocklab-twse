{
 "cells": [
  {
   "cell_type": "markdown",
   "id": "26688670-be8d-436f-b5e3-1c190b1638cf",
   "metadata": {},
   "source": [
    "## Big picture\n",
    "```\n",
    "              +-------+                         +--------+\n",
    "Indicators -> | Model | -> Sign (state-less) -> | Refine | -> Stretegy (statefull)\n",
    "(features)    |       |    (binary sequence)    |        |    (binary sequence)\n",
    "              +-------+                         +--------+\n",
    "```\n",
    "Although simulator can accept any binary sequence as its input,\n",
    "the performance of signs was expected to be sub-optimal.\n",
    "The optimal decision making function should depend on the states of an agent (i.e. the simulator)."
   ]
  },
  {
   "cell_type": "code",
   "execution_count": null,
   "id": "7603506b-79db-4b20-8c10-38eae908c79a",
   "metadata": {},
   "outputs": [],
   "source": [
    "import os\n",
    "import stocklab\n",
    "import stocklab_twse.data_bundle\n",
    "import stocklab_twse.analysis_bundle\n",
    "\n",
    "config_file = 'config.yml'\n",
    "stocklab.configure(config_file)"
   ]
  },
  {
   "cell_type": "code",
   "execution_count": null,
   "id": "c2871476-c030-480d-89c1-569da38442b7",
   "metadata": {},
   "outputs": [],
   "source": [
    "\"\"\"Plot stuff\"\"\"\n",
    "#http://mrjbq7.github.io/ta-lib/\n",
    "#https://ta-lib.org/d_api/ta_setunstableperiod.html\n",
    "import numpy as np\n",
    "from stocklab import DataIdentifier as DI\n",
    "from stocklab_twse.utils import date_range\n",
    "from stocklab_twse.utils.plot import plot\n",
    "\n",
    "n = 160\n",
    "sid = '2330'\n",
    "\n",
    "dates = list(date_range(end=20181201, window=n))\n",
    "dates.sort()\n",
    "ohlcs = [DI('DailyData')(stock=sid, date=d) for d in dates]\n",
    "ohlcs = [(inf['open'], inf['max'], inf['min'], inf['close'], inf['delta_price_share']) for inf in ohlcs]\n",
    "ohlcs = np.asarray(ohlcs)\n",
    "\n",
    "import talib\n",
    "#talib.set_unstable_period('EMA', 70)\n",
    "talib.set_unstable_period('ALL', 0)\n",
    "patterns = talib.get_function_groups()['Pattern Recognition']\n",
    "signs = np.array([getattr(talib, p)(ohlcs[:,0], ohlcs[:,1], ohlcs[:,2], ohlcs[:,3]) for p in patterns])\n",
    "foo = talib.CDL3BLACKCROWS(ohlcs[:,0], ohlcs[:,1], ohlcs[:,2], ohlcs[:,3])\n",
    "mom = talib.MOM(ohlcs[:,-2], timeperiod=5)\n",
    "inphase, quadrature = talib.HT_PHASOR(ohlcs[:,-2])\n",
    "#aux = {'UB': upperband, 'MB': middleband, 'LB': lowerband}\n",
    "aux = {'foo': foo}\n",
    "taux = {'vol': ohlcs[:,-1]}\n",
    "taux = {'inphase': inphase, 'quad': quadrature}\n",
    "\n",
    "#sgn = np.zeros(n)\n",
    "#sgn = signs[9]\n",
    "golden = np.array([\n",
    "    DI('GoldenSign')(stock=sid, date=d, window=15, gain=1.02, mode='time_first')\n",
    "    for d in dates\n",
    "])\n",
    "plot(dates, ohlcs[:,0:4], signs=golden, aux=aux)\n",
    "#plot(dates, ohlcs[:,0:4], signs=sgn, aux=aux, top_aux=taux)\n",
    "#print([(s>0).sum() for s in signs])\n",
    "#print([(s<0).sum() for s in signs])"
   ]
  },
  {
   "cell_type": "code",
   "execution_count": null,
   "id": "cd976dc0-6678-4482-ae42-9f3db97b1c36",
   "metadata": {},
   "outputs": [],
   "source": [
    "\"\"\"What accuracy is enough? (using noisy golden)\"\"\"\n",
    "from stocklab_twse.utils import Simulator\n",
    "\n",
    "signs = np.array([getattr(talib, p)(ohlcs[:,0], ohlcs[:,1], ohlcs[:,2], ohlcs[:,3]) for p in patterns])\n",
    "sim = Simulator()\n",
    "hold = sim(dates, golden, ohlcs[:,-2])\n",
    "plot(dates, ohlcs[:,0:4], signs=golden, top_aux={'sim': hold})"
   ]
  },
  {
   "cell_type": "code",
   "execution_count": null,
   "id": "9d2be91a-647b-4a74-af8b-1c8387bff860",
   "metadata": {},
   "outputs": [],
   "source": []
  }
 ],
 "metadata": {
  "kernelspec": {
   "display_name": "Python 3",
   "language": "python",
   "name": "python3"
  },
  "language_info": {
   "codemirror_mode": {
    "name": "ipython",
    "version": 3
   },
   "file_extension": ".py",
   "mimetype": "text/x-python",
   "name": "python",
   "nbconvert_exporter": "python",
   "pygments_lexer": "ipython3",
   "version": "3.8.8"
  }
 },
 "nbformat": 4,
 "nbformat_minor": 5
}
