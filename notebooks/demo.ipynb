{
 "cells": [
  {
   "cell_type": "code",
   "execution_count": null,
   "id": "0b285fc6-0e69-45cd-ba83-51cc50313e38",
   "metadata": {},
   "outputs": [],
   "source": [
    "import os\n",
    "import stocklab\n",
    "import stocklab_twse.data_bundle\n",
    "import stocklab_twse.analysis_bundle\n",
    "\n",
    "config_file = 'config.yml'\n",
    "stocklab.configure(config_file)"
   ]
  },
  {
   "cell_type": "markdown",
   "id": "79325c9b-e588-418a-a37c-c59d7298dd35",
   "metadata": {},
   "source": [
    "## Ad-hoc node"
   ]
  },
  {
   "cell_type": "code",
   "execution_count": null,
   "id": "cb02e19c-a6c4-462f-9ab3-25a5cfaaed93",
   "metadata": {},
   "outputs": [],
   "source": [
    "\"\"\"Ad-hoc node template\"\"\"\n",
    "from stocklab.node import *\n",
    "from stocklab import DataIdentifier as DI\n",
    "from stocklab_twse.utils.datetime import Date\n",
    "from stocklab_twse.utils import date_range\n",
    "\n",
    "class FooNode(Node):\n",
    "    args = Args(\n",
    "            stock = Arg(),\n",
    "            date = Arg(type=Date),\n",
    "            )\n",
    "\n",
    "    def evaluate(stock, date):\n",
    "        raise NotImplementedError()\n"
   ]
  },
  {
   "cell_type": "code",
   "execution_count": null,
   "id": "3991e394-8fad-4cd6-8f49-7b62f707a9ce",
   "metadata": {},
   "outputs": [],
   "source": [
    "\"\"\"Installation\"\"\"\n",
    "from stocklab.core import bundle\n",
    "from stocklab.core.node import flush_cache\n",
    "bundle.register(FooNode, allow_overwrite=True)\n",
    "flush_cache()"
   ]
  },
  {
   "cell_type": "code",
   "execution_count": null,
   "id": "1da5d9de-72c0-4b4a-a756-cef0b1ac596a",
   "metadata": {},
   "outputs": [],
   "source": [
    "\"\"\"Usage\"\"\"\n",
    "raise NotImplementedError()"
   ]
  },
  {
   "cell_type": "markdown",
   "id": "6014b1fe-4384-4caa-8026-483d9523618a",
   "metadata": {},
   "source": [
    "## Analysis feature"
   ]
  },
  {
   "cell_type": "code",
   "execution_count": null,
   "id": "3e142839-7804-4663-9604-bb0297e1d21c",
   "metadata": {},
   "outputs": [],
   "source": [
    "\"\"\"Plot stuff\"\"\"\n",
    "#http://mrjbq7.github.io/ta-lib/\n",
    "#https://ta-lib.org/d_api/ta_setunstableperiod.html\n",
    "import numpy as np\n",
    "from stocklab import DataIdentifier as DI\n",
    "from stocklab_twse.utils import date_range\n",
    "from stocklab_twse.utils.plot import plot\n",
    "\n",
    "n = 160\n",
    "sid = '2330'\n",
    "\n",
    "dates = list(date_range(end=20181201, window=n))\n",
    "dates.sort()\n",
    "ohlcs = [DI('DailyData')(stock=sid, date=d) for d in dates]\n",
    "ohlcs = [(inf['open'], inf['max'], inf['min'], inf['close'], inf['delta_price_share']) for inf in ohlcs]\n",
    "ohlcs = np.asarray(ohlcs)\n",
    "\n",
    "import talib\n",
    "#talib.set_unstable_period('EMA', 70)\n",
    "talib.set_unstable_period('ALL', 0)\n",
    "patterns = talib.get_function_groups()['Pattern Recognition']\n",
    "signs = np.array([getattr(talib, p)(ohlcs[:,0], ohlcs[:,1], ohlcs[:,2], ohlcs[:,3]) for p in patterns])\n",
    "foo = talib.CDL3BLACKCROWS(ohlcs[:,0], ohlcs[:,1], ohlcs[:,2], ohlcs[:,3])\n",
    "mom = talib.MOM(ohlcs[:,-2], timeperiod=5)\n",
    "inphase, quadrature = talib.HT_PHASOR(ohlcs[:,-2])\n",
    "#aux = {'UB': upperband, 'MB': middleband, 'LB': lowerband}\n",
    "aux = {'foo': foo}\n",
    "taux = {'vol': ohlcs[:,-1]}\n",
    "taux = {'inphase': inphase, 'quad': quadrature}\n",
    "\n",
    "#sgn = np.zeros(n)\n",
    "#sgn = signs[9]\n",
    "golden = np.array([\n",
    "    DI('GoldenSign')(stock=sid, date=d, window=15, gain=1.02, mode='time_first')\n",
    "    for d in dates\n",
    "])\n",
    "plot(dates, ohlcs[:,0:4], signs=golden, aux=aux)\n",
    "#plot(dates, ohlcs[:,0:4], signs=sgn, aux=aux, top_aux=taux)\n",
    "#print([(s>0).sum() for s in signs])\n",
    "#print([(s<0).sum() for s in signs])"
   ]
  },
  {
   "cell_type": "code",
   "execution_count": null,
   "id": "4430d4b0-1fdd-4724-9093-824184518461",
   "metadata": {},
   "outputs": [],
   "source": [
    "\"\"\"Performance evaluation (backtracing)\"\"\"\n",
    "from stocklab_twse.utils import Simulator\n",
    "\n",
    "signs = np.array([getattr(talib, p)(ohlcs[:,0], ohlcs[:,1], ohlcs[:,2], ohlcs[:,3]) for p in patterns])\n",
    "sim = Simulator()\n",
    "hold = sim(dates, golden, ohlcs[:,-2])\n",
    "plot(dates, ohlcs[:,0:4], signs=golden, top_aux={'sim': hold})"
   ]
  },
  {
   "cell_type": "code",
   "execution_count": null,
   "id": "5543a6fb-ceb5-415f-ac74-4cc90d2efd83",
   "metadata": {},
   "outputs": [],
   "source": []
  }
 ],
 "metadata": {
  "kernelspec": {
   "display_name": "Python 3",
   "language": "python",
   "name": "python3"
  },
  "language_info": {
   "codemirror_mode": {
    "name": "ipython",
    "version": 3
   },
   "file_extension": ".py",
   "mimetype": "text/x-python",
   "name": "python",
   "nbconvert_exporter": "python",
   "pygments_lexer": "ipython3",
   "version": "3.8.8"
  }
 },
 "nbformat": 4,
 "nbformat_minor": 5
}
